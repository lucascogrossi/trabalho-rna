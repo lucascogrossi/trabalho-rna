{
 "cells": [
  {
   "cell_type": "code",
   "execution_count": 62,
   "id": "b373b344",
   "metadata": {},
   "outputs": [
    {
     "data": {
      "text/plain": [
       "<torch._C.Generator at 0x72a087c7a750>"
      ]
     },
     "execution_count": 62,
     "metadata": {},
     "output_type": "execute_result"
    }
   ],
   "source": [
    "%matplotlib inline\n",
    "from matplotlib import pyplot as plt\n",
    "import numpy as np\n",
    "import torch\n",
    "\n",
    "torch.set_printoptions(edgeitems=2)\n",
    "torch.manual_seed(123)"
   ]
  },
  {
   "cell_type": "code",
   "execution_count": 63,
   "id": "bbfc9308",
   "metadata": {},
   "outputs": [
    {
     "name": "stdout",
     "output_type": "stream",
     "text": [
      "Usando dispositivo: cuda\n"
     ]
    }
   ],
   "source": [
    "import torch\n",
    "\n",
    "# Define o device\n",
    "device = torch.device(\"cuda\" if torch.cuda.is_available() else \"cpu\")\n",
    "print(\"Usando dispositivo:\", device)"
   ]
  },
  {
   "cell_type": "code",
   "execution_count": 64,
   "id": "bdf17bda",
   "metadata": {},
   "outputs": [
    {
     "data": {
      "text/plain": [
       "(tensor(0.1307, device='cuda:0'), tensor(0.3081, device='cuda:0'))"
      ]
     },
     "execution_count": 64,
     "metadata": {},
     "output_type": "execute_result"
    }
   ],
   "source": [
    "from torchvision import datasets, transforms\n",
    "import torch\n",
    "\n",
    "data_path = './data/'\n",
    "\n",
    "mnist = datasets.MNIST(\n",
    "    data_path, train=True, download=True,\n",
    "    transform=transforms.ToTensor()\n",
    ")\n",
    "\n",
    "# Empilha todas as imagens: [N, 1, 28, 28] = [batch size, canais, altura, largura] e manda para GPU\n",
    "images = torch.stack([img for img, _ in mnist], dim=0).to(device)\n",
    "# Calcula a média e o desvio padrão\n",
    "mean = images.mean()\n",
    "std = images.std()\n",
    "\n",
    "mean, std"
   ]
  },
  {
   "cell_type": "code",
   "execution_count": 65,
   "id": "ba38ae60",
   "metadata": {},
   "outputs": [],
   "source": [
    "# Dividimos o dataset em dois conjuntos: treinamento e validação/teste\n",
    "# Aplicamos normalização usando a média e desvio padrão calculados\n",
    "\n",
    "# treino\n",
    "mnist_train = datasets.MNIST(\n",
    "    data_path, train=True, download=False,\n",
    "    transform=transforms.Compose([\n",
    "        transforms.ToTensor(),\n",
    "        transforms.Normalize(mean, std)\n",
    "    ])\n",
    ")\n",
    "\n",
    "# validacao/teste\n",
    "mnist_val = datasets.MNIST(\n",
    "    data_path, train=False, download=False,\n",
    "    transform=transforms.Compose([\n",
    "        transforms.ToTensor(),\n",
    "        transforms.Normalize(mean, std)\n",
    "    ])\n",
    ")"
   ]
  },
  {
   "cell_type": "code",
   "execution_count": 66,
   "id": "5e80b819",
   "metadata": {},
   "outputs": [],
   "source": [
    "import torch\n",
    "import torch.nn as nn\n",
    "import torch.optim as optim\n",
    "\n",
    "# Cria um DataLoader:\n",
    "# - o dataset é dividido em batches de 2048 imagens\n",
    "# - os dados são embaralhados no início de cada época\n",
    "train_loader = torch.utils.data.DataLoader(mnist_train, batch_size=2048, shuffle=True)\n",
    "\n",
    "# Define nosso modelo com nn.Sequential\n",
    "model = nn.Sequential(\n",
    "    nn.Flatten(),               # achatando a imagem: [batch, 1, 28, 28] -> [batch, 784]\n",
    "    nn.Linear(28*28, 512),      # camada oculta 784 -> 512\n",
    "    nn.ReLU(inplace=True),\n",
    "    nn.Linear(512, 256),        # camada oculta 512 -> 256\n",
    "    nn.ReLU(inplace=True),\n",
    "    nn.Linear(256, 128),\n",
    "    nn.ReLU(inplace=True),\n",
    "    nn.Linear(128, 10),\n",
    "                                    # 256 -> 10 classes\n",
    ").to(device)\n",
    "\n",
    "# learning rate controla o quanto os parâmetros do modelo são atualizados durante o treinamento\n",
    "learning_rate = 0.05\n",
    "\n",
    "# otimizador Stochastic Gradient Descent (SGD):\n",
    "# responsável por atualizar os parâmetros usando os gradientes calculados a partir de cada batch\n",
    "optimizer = optim.SGD(model.parameters(), lr=learning_rate)\n",
    "\n",
    "# função de perda Cross-Entropy (comumente usada para classificação)\n",
    "# calcula a diferença entre as probabilidades previstas pelo modelo e os rótulos verdadeiros\n",
    "loss_fn = nn.CrossEntropyLoss()\n",
    "\n",
    "# número de épocas de treino\n",
    "n_epochs = 30\n"
   ]
  },
  {
   "cell_type": "code",
   "execution_count": 67,
   "id": "bc29264e",
   "metadata": {},
   "outputs": [
    {
     "name": "stdout",
     "output_type": "stream",
     "text": [
      "Época: 0, Perda: 2.179428\n",
      "Época: 1, Perda: 1.531622\n",
      "Época: 2, Perda: 0.757862\n",
      "Época: 3, Perda: 0.612782\n",
      "Época: 4, Perda: 0.500512\n",
      "Época: 5, Perda: 0.414328\n",
      "Época: 6, Perda: 0.361089\n",
      "Época: 7, Perda: 0.271811\n",
      "Época: 8, Perda: 0.296151\n",
      "Época: 9, Perda: 0.286145\n",
      "Época: 10, Perda: 0.322175\n",
      "Época: 11, Perda: 0.279362\n",
      "Época: 12, Perda: 0.309698\n",
      "Época: 13, Perda: 0.251884\n",
      "Época: 14, Perda: 0.240308\n",
      "Época: 15, Perda: 0.226719\n",
      "Época: 16, Perda: 0.194340\n",
      "Época: 17, Perda: 0.179544\n",
      "Época: 18, Perda: 0.174882\n",
      "Época: 19, Perda: 0.213724\n",
      "Época: 20, Perda: 0.176705\n",
      "Época: 21, Perda: 0.161104\n",
      "Época: 22, Perda: 0.214172\n",
      "Época: 23, Perda: 0.160603\n",
      "Época: 24, Perda: 0.140252\n",
      "Época: 25, Perda: 0.138467\n",
      "Época: 26, Perda: 0.118597\n",
      "Época: 27, Perda: 0.186454\n",
      "Época: 28, Perda: 0.178328\n",
      "Época: 29, Perda: 0.146636\n"
     ]
    }
   ],
   "source": [
    "# loop de treino\n",
    "\n",
    "for epoch in range(n_epochs):\n",
    "    # itera sobre batches de imagens e rótulos\n",
    "    for imgs, labels in train_loader:\n",
    "        # envia os dados para o mesmo dispositivo do modelo (CPU ou GPU)\n",
    "        imgs = imgs.to(device)\n",
    "        labels = labels.to(device)\n",
    "\n",
    "        # calcula a previsão do modelo\n",
    "        outputs = model(imgs)\n",
    "\n",
    "        # calcula a perda\n",
    "        loss = loss_fn(outputs, labels)\n",
    "\n",
    "        # reseta os gradientes para evitar acumulação\n",
    "        optimizer.zero_grad()\n",
    "        \n",
    "        # calcula os gradientes da perda\n",
    "        loss.backward()\n",
    "        \n",
    "        # atualiza os parâmetros\n",
    "        optimizer.step()\n",
    "\n",
    "    # imprime a perda ao final de cada época\n",
    "    print(\"Época: %d, Perda: %f\" % (epoch, float(loss)))\n",
    "\n",
    "    # tempo exec 1: 10m 18.1s\n",
    "    # tempo exec 2:\n"
   ]
  },
  {
   "cell_type": "code",
   "execution_count": 68,
   "id": "f83f5090",
   "metadata": {},
   "outputs": [
    {
     "name": "stdout",
     "output_type": "stream",
     "text": [
      "Acurácia no treino: 95.41%\n"
     ]
    }
   ],
   "source": [
    "# avaliação do modelo no conjunto de treino\n",
    "train_loader = torch.utils.data.DataLoader(mnist_train, batch_size=64, shuffle=False)\n",
    "\n",
    "correct = 0\n",
    "total = 0\n",
    "\n",
    "with torch.no_grad():\n",
    "    for imgs, labels in train_loader:\n",
    "        imgs, labels = imgs.to(device), labels.to(device)\n",
    "        outputs = model(imgs.view(imgs.shape[0], -1))\n",
    "        _, predicted = torch.max(outputs, dim=1)\n",
    "        total += labels.size(0)\n",
    "        correct += (predicted == labels).sum().item()\n",
    "        \n",
    "print(\"Acurácia no treino: %.2f%%\" % (100 * correct / total))\n"
   ]
  },
  {
   "cell_type": "code",
   "execution_count": 69,
   "id": "02205052",
   "metadata": {},
   "outputs": [
    {
     "name": "stdout",
     "output_type": "stream",
     "text": [
      "Acurácia na validação: 95.11%\n"
     ]
    }
   ],
   "source": [
    "# avaliação do modelo no conjunto de validação\n",
    "val_loader = torch.utils.data.DataLoader(mnist_val, batch_size=64, shuffle=False)\n",
    "\n",
    "correct = 0\n",
    "total = 0\n",
    "\n",
    "with torch.no_grad():\n",
    "    for imgs, labels in val_loader:\n",
    "        imgs, labels = imgs.to(device), labels.to(device)\n",
    "        outputs = model(imgs.view(imgs.shape[0], -1))\n",
    "        _, predicted = torch.max(outputs, dim=1)\n",
    "        total += labels.size(0)\n",
    "        correct += (predicted == labels).sum().item()\n",
    "        \n",
    "print(\"Acurácia na validação: %.2f%%\" % (100 * correct / total))\n"
   ]
  },
  {
   "cell_type": "code",
   "execution_count": 70,
   "id": "4f4ae992",
   "metadata": {},
   "outputs": [
    {
     "data": {
      "image/png": "[encoded data removed]",
      "text/plain": [
       "<Figure size 1500x300 with 10 Axes>"
      ]
     },
     "metadata": {},
     "output_type": "display_data"
    }
   ],
   "source": [
    "import random\n",
    "from matplotlib import pyplot as plt\n",
    "\n",
    "num_imgs = 10\n",
    "\n",
    "plt.figure(figsize=(15, 3))\n",
    "\n",
    "for i in range(num_imgs):\n",
    "    # escolhe índice aleatório\n",
    "    idx = random.randint(0, len(mnist_val)-1)\n",
    "    \n",
    "    # pega imagem e rótulo verdadeiro\n",
    "    img, label = mnist_val[idx]\n",
    "    \n",
    "    # envia para o device e adiciona dimensão de batch\n",
    "    img_tensor = img.unsqueeze(0).to(device)\n",
    "    \n",
    "    # passa pelo modelo\n",
    "    with torch.no_grad():\n",
    "        output = model(img_tensor)\n",
    "        predicted = torch.argmax(output, dim=1).item()\n",
    "    \n",
    "    # mostra imagem\n",
    "    plt.subplot(1, num_imgs, i+1)\n",
    "    plt.imshow(img.squeeze(), cmap='gray')\n",
    "    plt.title(f\"Correto: {label}\\nPrevisão: {predicted}\")\n",
    "    plt.axis('off')\n",
    "\n",
    "plt.show()\n"
   ]
  }
 ],
 "metadata": {
  "kernelspec": {
   "display_name": ".venv",
   "language": "python",
   "name": "python3"
  },
  "language_info": {
   "codemirror_mode": {
    "name": "ipython",
    "version": 3
   },
   "file_extension": ".py",
   "mimetype": "text/x-python",
   "name": "python",
   "nbconvert_exporter": "python",
   "pygments_lexer": "ipython3",
   "version": "3.12.3"
  }
 },
 "nbformat": 4,
 "nbformat_minor": 5
}
