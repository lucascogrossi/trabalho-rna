{
 "cells": [
  {
   "cell_type": "code",
   "execution_count": 6,
   "id": "b373b344",
   "metadata": {},
   "outputs": [
    {
     "data": {
      "text/plain": [
       "<torch._C.Generator at 0x7f42aa9c3270>"
      ]
     },
     "execution_count": 6,
     "metadata": {},
     "output_type": "execute_result"
    }
   ],
   "source": [
    "%matplotlib inline\n",
    "from matplotlib import pyplot as plt\n",
    "import numpy as np\n",
    "import torch\n",
    "\n",
    "torch.set_printoptions(edgeitems=2)\n",
    "torch.manual_seed(123)"
   ]
  },
  {
   "cell_type": "code",
   "execution_count": 7,
   "id": "bbfc9308",
   "metadata": {},
   "outputs": [
    {
     "name": "stdout",
     "output_type": "stream",
     "text": [
      "Usando dispositivo: cpu\n"
     ]
    }
   ],
   "source": [
    "import torch\n",
    "\n",
    "# Define o device\n",
    "device = torch.device(\"cuda\" if torch.cuda.is_available() else \"cpu\")\n",
    "print(\"Usando dispositivo:\", device)"
   ]
  },
  {
   "cell_type": "code",
   "execution_count": 8,
   "id": "bdf17bda",
   "metadata": {},
   "outputs": [
    {
     "name": "stderr",
     "output_type": "stream",
     "text": [
      "100.0%\n",
      "100.0%\n",
      "100.0%\n",
      "100.0%\n"
     ]
    },
    {
     "data": {
      "text/plain": [
       "(tensor(0.1307), tensor(0.3081))"
      ]
     },
     "execution_count": 8,
     "metadata": {},
     "output_type": "execute_result"
    }
   ],
   "source": [
    "from torchvision import datasets, transforms\n",
    "import torch\n",
    "\n",
    "data_path = './data/'\n",
    "\n",
    "mnist = datasets.MNIST(\n",
    "    data_path, train=True, download=True,\n",
    "    transform=transforms.ToTensor()\n",
    ")\n",
    "\n",
    "# Empilha todas as imagens: [N, 1, 28, 28] = [batch size, canais, altura, largura] e manda para GPU\n",
    "images = torch.stack([img for img, _ in mnist], dim=0).to(device)\n",
    "# Calcula a média e o desvio padrão\n",
    "mean = images.mean()\n",
    "std = images.std()\n",
    "\n",
    "mean, std"
   ]
  },
  {
   "cell_type": "code",
   "execution_count": 9,
   "id": "ba38ae60",
   "metadata": {},
   "outputs": [],
   "source": [
    "# Dividimos o dataset em dois conjuntos: treinamento e validação/teste\n",
    "# Aplicamos normalização usando a média e desvio padrão calculados\n",
    "\n",
    "# treino\n",
    "mnist_train = datasets.MNIST(\n",
    "    data_path, train=True, download=False,\n",
    "    transform=transforms.Compose([\n",
    "        transforms.ToTensor(),\n",
    "        transforms.Normalize(mean, std)\n",
    "    ])\n",
    ")\n",
    "\n",
    "# validacao/teste\n",
    "mnist_val = datasets.MNIST(\n",
    "    data_path, train=False, download=False,\n",
    "    transform=transforms.Compose([\n",
    "        transforms.ToTensor(),\n",
    "        transforms.Normalize(mean, std)\n",
    "    ])\n",
    ")"
   ]
  },
  {
   "cell_type": "code",
   "execution_count": null,
   "id": "5e80b819",
   "metadata": {},
   "outputs": [],
   "source": [
    "import torch\n",
    "import torch.nn as nn\n",
    "import torch.optim as optim\n",
    "\n",
    "# Cria um DataLoader:\n",
    "# - o dataset é dividido em batches de 2048 imagens\n",
    "# - os dados são embaralhados no início de cada época\n",
    "train_loader = torch.utils.data.DataLoader(mnist_train, batch_size=2048, shuffle=True)\n",
    "\n",
    "# Define nosso modelo como uma classe (MLP)\n",
    "class MLP(nn.Module):\n",
    "    def __init__(self):\n",
    "        super(MLP, self).__init__()\n",
    "        # camadas lineares\n",
    "        self.fc1 = nn.Linear(28*28, 512)   # entrada: 784 -> 512\n",
    "        self.fc2 = nn.Linear(512, 256)     # 512 -> 256\n",
    "        self.fc3 = nn.Linear(256, 10)      # 256 -> 10 classes\n",
    "        # função de ativação\n",
    "        self.relu = nn.ReLU(inplace=True)\n",
    "\n",
    "    def forward(self, x):\n",
    "        # achatando a imagem: [batch, 1, 28, 28] -> [batch, 784]\n",
    "        x = x.view(x.shape[0], -1)\n",
    "        # passagem pelas camadas\n",
    "        x = self.relu(self.fc1(x))\n",
    "        x = self.relu(self.fc2(x))\n",
    "        x = self.fc3(x)  # última camada sem ativação (CrossEntropyLoss aplica softmax internamente)\n",
    "        return x\n",
    "\n",
    "# cria o modelo e envia para GPU\n",
    "model = MLP().to(device)\n",
    "\n",
    "# learning rate controla o quanto os parâmetros do modelo são atualizados durante o treinamento\n",
    "learning_rate = 0.1\n",
    "\n",
    "# otimizador Stochastic Gradient Descent (SGD):\n",
    "# responsável por atualizar os parâmetros usando os gradientes calculados a partir de cada batch\n",
    "optimizer = optim.SGD(model.parameters(), lr=learning_rate)\n",
    "\n",
    "# função de perda Cross-Entropy (comumente usada para classificação)\n",
    "# calcula a diferença entre as probabilidades previstas pelo modelo e os rótulos verdadeiros\n",
    "loss_fn = nn.CrossEntropyLoss()\n",
    "\n",
    "# número de épocas de treino\n",
    "n_epochs = 30\n"
   ]
  },
  {
   "cell_type": "code",
   "execution_count": 11,
   "id": "bc29264e",
   "metadata": {},
   "outputs": [
    {
     "name": "stderr",
     "output_type": "stream",
     "text": [
      "/tmp/ipykernel_2349/2877959887.py:26: UserWarning: Converting a tensor with requires_grad=True to a scalar may lead to unexpected behavior.\n",
      "Consider using tensor.detach() first. (Triggered internally at /pytorch/torch/csrc/autograd/generated/python_variable_methods.cpp:835.)\n",
      "  print(\"Época: %d, Perda: %f\" % (epoch, float(loss)))\n"
     ]
    },
    {
     "name": "stdout",
     "output_type": "stream",
     "text": [
      "Época: 0, Perda: 0.656113\n",
      "Época: 1, Perda: 0.442232\n",
      "Época: 2, Perda: 0.299256\n",
      "Época: 3, Perda: 0.286116\n",
      "Época: 4, Perda: 0.284151\n",
      "Época: 5, Perda: 0.221269\n",
      "Época: 6, Perda: 0.250572\n",
      "Época: 7, Perda: 0.235506\n",
      "Época: 8, Perda: 0.200557\n",
      "Época: 9, Perda: 0.253291\n",
      "Época: 10, Perda: 0.161289\n",
      "Época: 11, Perda: 0.200315\n",
      "Época: 12, Perda: 0.273327\n",
      "Época: 13, Perda: 0.200818\n",
      "Época: 14, Perda: 0.120877\n",
      "Época: 15, Perda: 0.143656\n",
      "Época: 16, Perda: 0.152164\n",
      "Época: 17, Perda: 0.185406\n",
      "Época: 18, Perda: 0.169214\n",
      "Época: 19, Perda: 0.159762\n",
      "Época: 20, Perda: 0.174905\n",
      "Época: 21, Perda: 0.076418\n",
      "Época: 22, Perda: 0.136388\n",
      "Época: 23, Perda: 0.111913\n",
      "Época: 24, Perda: 0.096471\n",
      "Época: 25, Perda: 0.062551\n",
      "Época: 26, Perda: 0.102630\n",
      "Época: 27, Perda: 0.120477\n",
      "Época: 28, Perda: 0.096766\n",
      "Época: 29, Perda: 0.085943\n"
     ]
    }
   ],
   "source": [
    "# loop de treino\n",
    "\n",
    "for epoch in range(n_epochs):\n",
    "    # itera sobre batches de imagens e rótulos\n",
    "    for imgs, labels in train_loader:\n",
    "        # envia os dados para o mesmo dispositivo do modelo (CPU ou GPU)\n",
    "        imgs = imgs.to(device)\n",
    "        labels = labels.to(device)\n",
    "\n",
    "        # calcula a previsão do modelo\n",
    "        outputs = model(imgs)\n",
    "\n",
    "        # calcula a perda\n",
    "        loss = loss_fn(outputs, labels)\n",
    "\n",
    "        # reseta os gradientes para evitar acumulação\n",
    "        optimizer.zero_grad()\n",
    "        \n",
    "        # calcula os gradientes da perda\n",
    "        loss.backward()\n",
    "        \n",
    "        # atualiza os parâmetros\n",
    "        optimizer.step()\n",
    "\n",
    "    # imprime a perda ao final de cada época\n",
    "    print(\"Época: %d, Perda: %f\" % (epoch, float(loss)))\n",
    "\n",
    "    # tempo final GPU: 10m 18.1s\n"
   ]
  },
  {
   "cell_type": "code",
   "execution_count": 12,
   "id": "f83f5090",
   "metadata": {},
   "outputs": [
    {
     "name": "stdout",
     "output_type": "stream",
     "text": [
      "Acurácia no treino: 97.45%\n"
     ]
    }
   ],
   "source": [
    "# avaliação do modelo no conjunto de treino\n",
    "train_loader = torch.utils.data.DataLoader(mnist_train, batch_size=64, shuffle=False)\n",
    "\n",
    "correct = 0\n",
    "total = 0\n",
    "\n",
    "with torch.no_grad():\n",
    "    for imgs, labels in train_loader:\n",
    "        imgs, labels = imgs.to(device), labels.to(device)\n",
    "        outputs = model(imgs.view(imgs.shape[0], -1))\n",
    "        _, predicted = torch.max(outputs, dim=1)\n",
    "        total += labels.size(0)\n",
    "        correct += (predicted == labels).sum().item()\n",
    "        \n",
    "print(\"Acurácia no treino: %.2f%%\" % (100 * correct / total))\n"
   ]
  },
  {
   "cell_type": "code",
   "execution_count": 13,
   "id": "02205052",
   "metadata": {},
   "outputs": [
    {
     "name": "stdout",
     "output_type": "stream",
     "text": [
      "Acurácia na validação: 96.87%\n"
     ]
    }
   ],
   "source": [
    "# avaliação do modelo no conjunto de validação\n",
    "val_loader = torch.utils.data.DataLoader(mnist_val, batch_size=64, shuffle=False)\n",
    "\n",
    "correct = 0\n",
    "total = 0\n",
    "\n",
    "with torch.no_grad():\n",
    "    for imgs, labels in val_loader:\n",
    "        imgs, labels = imgs.to(device), labels.to(device)\n",
    "        outputs = model(imgs.view(imgs.shape[0], -1))\n",
    "        _, predicted = torch.max(outputs, dim=1)\n",
    "        total += labels.size(0)\n",
    "        correct += (predicted == labels).sum().item()\n",
    "        \n",
    "print(\"Acurácia na validação: %.2f%%\" % (100 * correct / total))\n"
   ]
  },
  {
   "cell_type": "code",
   "execution_count": 14,
   "id": "4f4ae992",
   "metadata": {},
   "outputs": [
    {
     "data": {
      "image/png": "[encoded data removed]",
      "text/plain": [
       "<Figure size 1500x300 with 10 Axes>"
      ]
     },
     "metadata": {},
     "output_type": "display_data"
    }
   ],
   "source": [
    "import random\n",
    "from matplotlib import pyplot as plt\n",
    "\n",
    "num_imgs = 10\n",
    "\n",
    "plt.figure(figsize=(15, 3))\n",
    "\n",
    "for i in range(num_imgs):\n",
    "    # escolhe índice aleatório\n",
    "    idx = random.randint(0, len(mnist_val)-1)\n",
    "    \n",
    "    # pega imagem e rótulo verdadeiro\n",
    "    img, label = mnist_val[idx]\n",
    "    \n",
    "    # envia para o device e adiciona dimensão de batch\n",
    "    img_tensor = img.unsqueeze(0).to(device)\n",
    "    \n",
    "    # passa pelo modelo\n",
    "    with torch.no_grad():\n",
    "        output = model(img_tensor)\n",
    "        predicted = torch.argmax(output, dim=1).item()\n",
    "    \n",
    "    # mostra imagem\n",
    "    plt.subplot(1, num_imgs, i+1)\n",
    "    plt.imshow(img.squeeze(), cmap='gray')\n",
    "    plt.title(f\"Correto: {label}\\nPrevisão: {predicted}\")\n",
    "    plt.axis('off')\n",
    "\n",
    "plt.show()\n"
   ]
  }
 ],
 "metadata": {
  "kernelspec": {
   "display_name": "Python 3 (ipykernel)",
   "language": "python",
   "name": "python3"
  },
  "language_info": {
   "codemirror_mode": {
    "name": "ipython",
    "version": 3
   },
   "file_extension": ".py",
   "mimetype": "text/x-python",
   "name": "python",
   "nbconvert_exporter": "python",
   "pygments_lexer": "ipython3",
   "version": "3.13.7"
  }
 },
 "nbformat": 4,
 "nbformat_minor": 5
}
